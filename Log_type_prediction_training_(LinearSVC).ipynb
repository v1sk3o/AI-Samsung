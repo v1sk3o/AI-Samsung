{
  "nbformat": 4,
  "nbformat_minor": 0,
  "metadata": {
    "colab": {
      "provenance": [],
      "gpuType": "T4"
    },
    "kernelspec": {
      "name": "python3",
      "display_name": "Python 3"
    },
    "language_info": {
      "name": "python"
    },
    "accelerator": "GPU"
  },
  "cells": [
    {
      "cell_type": "markdown",
      "source": [
        "# Модель предсказания типа лога (LinearSVC)"
      ],
      "metadata": {
        "id": "j0wPTCvwIrn2"
      }
    },
    {
      "cell_type": "code",
      "source": [
        "from sklearn.svm import LinearSVC\n",
        "from sklearn.model_selection import train_test_split\n",
        "from sklearn.feature_extraction.text import TfidfVectorizer\n",
        "from sklearn.metrics import accuracy_score, classification_report\n",
        "import pandas as pd\n",
        "import joblib\n",
        "import csv"
      ],
      "metadata": {
        "id": "5bPWixBL989b"
      },
      "execution_count": null,
      "outputs": []
    },
    {
      "cell_type": "code",
      "source": [
        "# Необхоимо импортировать файл audit.log\n",
        "from google.colab import files\n",
        "uploaded = files.upload()"
      ],
      "metadata": {
        "colab": {
          "base_uri": "https://localhost:8080/",
          "height": 73
        },
        "id": "LhPM7eXoMgI0",
        "outputId": "1afa6f06-ce81-4c29-fcb6-f552756ab44b"
      },
      "execution_count": null,
      "outputs": [
        {
          "output_type": "display_data",
          "data": {
            "text/plain": [
              "<IPython.core.display.HTML object>"
            ],
            "text/html": [
              "\n",
              "     <input type=\"file\" id=\"files-53ac0498-ab66-43ac-a844-d063d488e590\" name=\"files[]\" multiple disabled\n",
              "        style=\"border:none\" />\n",
              "     <output id=\"result-53ac0498-ab66-43ac-a844-d063d488e590\">\n",
              "      Upload widget is only available when the cell has been executed in the\n",
              "      current browser session. Please rerun this cell to enable.\n",
              "      </output>\n",
              "      <script>// Copyright 2017 Google LLC\n",
              "//\n",
              "// Licensed under the Apache License, Version 2.0 (the \"License\");\n",
              "// you may not use this file except in compliance with the License.\n",
              "// You may obtain a copy of the License at\n",
              "//\n",
              "//      http://www.apache.org/licenses/LICENSE-2.0\n",
              "//\n",
              "// Unless required by applicable law or agreed to in writing, software\n",
              "// distributed under the License is distributed on an \"AS IS\" BASIS,\n",
              "// WITHOUT WARRANTIES OR CONDITIONS OF ANY KIND, either express or implied.\n",
              "// See the License for the specific language governing permissions and\n",
              "// limitations under the License.\n",
              "\n",
              "/**\n",
              " * @fileoverview Helpers for google.colab Python module.\n",
              " */\n",
              "(function(scope) {\n",
              "function span(text, styleAttributes = {}) {\n",
              "  const element = document.createElement('span');\n",
              "  element.textContent = text;\n",
              "  for (const key of Object.keys(styleAttributes)) {\n",
              "    element.style[key] = styleAttributes[key];\n",
              "  }\n",
              "  return element;\n",
              "}\n",
              "\n",
              "// Max number of bytes which will be uploaded at a time.\n",
              "const MAX_PAYLOAD_SIZE = 100 * 1024;\n",
              "\n",
              "function _uploadFiles(inputId, outputId) {\n",
              "  const steps = uploadFilesStep(inputId, outputId);\n",
              "  const outputElement = document.getElementById(outputId);\n",
              "  // Cache steps on the outputElement to make it available for the next call\n",
              "  // to uploadFilesContinue from Python.\n",
              "  outputElement.steps = steps;\n",
              "\n",
              "  return _uploadFilesContinue(outputId);\n",
              "}\n",
              "\n",
              "// This is roughly an async generator (not supported in the browser yet),\n",
              "// where there are multiple asynchronous steps and the Python side is going\n",
              "// to poll for completion of each step.\n",
              "// This uses a Promise to block the python side on completion of each step,\n",
              "// then passes the result of the previous step as the input to the next step.\n",
              "function _uploadFilesContinue(outputId) {\n",
              "  const outputElement = document.getElementById(outputId);\n",
              "  const steps = outputElement.steps;\n",
              "\n",
              "  const next = steps.next(outputElement.lastPromiseValue);\n",
              "  return Promise.resolve(next.value.promise).then((value) => {\n",
              "    // Cache the last promise value to make it available to the next\n",
              "    // step of the generator.\n",
              "    outputElement.lastPromiseValue = value;\n",
              "    return next.value.response;\n",
              "  });\n",
              "}\n",
              "\n",
              "/**\n",
              " * Generator function which is called between each async step of the upload\n",
              " * process.\n",
              " * @param {string} inputId Element ID of the input file picker element.\n",
              " * @param {string} outputId Element ID of the output display.\n",
              " * @return {!Iterable<!Object>} Iterable of next steps.\n",
              " */\n",
              "function* uploadFilesStep(inputId, outputId) {\n",
              "  const inputElement = document.getElementById(inputId);\n",
              "  inputElement.disabled = false;\n",
              "\n",
              "  const outputElement = document.getElementById(outputId);\n",
              "  outputElement.innerHTML = '';\n",
              "\n",
              "  const pickedPromise = new Promise((resolve) => {\n",
              "    inputElement.addEventListener('change', (e) => {\n",
              "      resolve(e.target.files);\n",
              "    });\n",
              "  });\n",
              "\n",
              "  const cancel = document.createElement('button');\n",
              "  inputElement.parentElement.appendChild(cancel);\n",
              "  cancel.textContent = 'Cancel upload';\n",
              "  const cancelPromise = new Promise((resolve) => {\n",
              "    cancel.onclick = () => {\n",
              "      resolve(null);\n",
              "    };\n",
              "  });\n",
              "\n",
              "  // Wait for the user to pick the files.\n",
              "  const files = yield {\n",
              "    promise: Promise.race([pickedPromise, cancelPromise]),\n",
              "    response: {\n",
              "      action: 'starting',\n",
              "    }\n",
              "  };\n",
              "\n",
              "  cancel.remove();\n",
              "\n",
              "  // Disable the input element since further picks are not allowed.\n",
              "  inputElement.disabled = true;\n",
              "\n",
              "  if (!files) {\n",
              "    return {\n",
              "      response: {\n",
              "        action: 'complete',\n",
              "      }\n",
              "    };\n",
              "  }\n",
              "\n",
              "  for (const file of files) {\n",
              "    const li = document.createElement('li');\n",
              "    li.append(span(file.name, {fontWeight: 'bold'}));\n",
              "    li.append(span(\n",
              "        `(${file.type || 'n/a'}) - ${file.size} bytes, ` +\n",
              "        `last modified: ${\n",
              "            file.lastModifiedDate ? file.lastModifiedDate.toLocaleDateString() :\n",
              "                                    'n/a'} - `));\n",
              "    const percent = span('0% done');\n",
              "    li.appendChild(percent);\n",
              "\n",
              "    outputElement.appendChild(li);\n",
              "\n",
              "    const fileDataPromise = new Promise((resolve) => {\n",
              "      const reader = new FileReader();\n",
              "      reader.onload = (e) => {\n",
              "        resolve(e.target.result);\n",
              "      };\n",
              "      reader.readAsArrayBuffer(file);\n",
              "    });\n",
              "    // Wait for the data to be ready.\n",
              "    let fileData = yield {\n",
              "      promise: fileDataPromise,\n",
              "      response: {\n",
              "        action: 'continue',\n",
              "      }\n",
              "    };\n",
              "\n",
              "    // Use a chunked sending to avoid message size limits. See b/62115660.\n",
              "    let position = 0;\n",
              "    do {\n",
              "      const length = Math.min(fileData.byteLength - position, MAX_PAYLOAD_SIZE);\n",
              "      const chunk = new Uint8Array(fileData, position, length);\n",
              "      position += length;\n",
              "\n",
              "      const base64 = btoa(String.fromCharCode.apply(null, chunk));\n",
              "      yield {\n",
              "        response: {\n",
              "          action: 'append',\n",
              "          file: file.name,\n",
              "          data: base64,\n",
              "        },\n",
              "      };\n",
              "\n",
              "      let percentDone = fileData.byteLength === 0 ?\n",
              "          100 :\n",
              "          Math.round((position / fileData.byteLength) * 100);\n",
              "      percent.textContent = `${percentDone}% done`;\n",
              "\n",
              "    } while (position < fileData.byteLength);\n",
              "  }\n",
              "\n",
              "  // All done.\n",
              "  yield {\n",
              "    response: {\n",
              "      action: 'complete',\n",
              "    }\n",
              "  };\n",
              "}\n",
              "\n",
              "scope.google = scope.google || {};\n",
              "scope.google.colab = scope.google.colab || {};\n",
              "scope.google.colab._files = {\n",
              "  _uploadFiles,\n",
              "  _uploadFilesContinue,\n",
              "};\n",
              "})(self);\n",
              "</script> "
            ]
          },
          "metadata": {}
        },
        {
          "output_type": "stream",
          "name": "stdout",
          "text": [
            "Saving audit.log to audit.log\n"
          ]
        }
      ]
    },
    {
      "cell_type": "code",
      "source": [
        "from google.colab import drive\n",
        "drive.mount('/content/drive')"
      ],
      "metadata": {
        "colab": {
          "base_uri": "https://localhost:8080/"
        },
        "id": "TGBA-rkdzOxk",
        "outputId": "b52099e0-1aba-479b-9405-119260d50bba"
      },
      "execution_count": null,
      "outputs": [
        {
          "output_type": "stream",
          "name": "stdout",
          "text": [
            "Mounted at /content/drive\n"
          ]
        }
      ]
    },
    {
      "cell_type": "markdown",
      "source": [
        "### Подготовка данных"
      ],
      "metadata": {
        "id": "Q7DAF-4CIzFF"
      }
    },
    {
      "cell_type": "code",
      "source": [
        "# Словарь переводов по типу\n",
        "log_types_translations = {\n",
        "    \"ADD_USER\": \"Добавление пользователя\",\n",
        "    \"CWD\": \"Текущий рабочий каталог\",\n",
        "    \"USER_AVC\": \"Пользовательский контроль доступа (Access Vector Cache)\",\n",
        "    \"USER_AUTH\": \"Аутентификация пользователя\",\n",
        "    \"USER_START\": \"Начало сессии пользователя\",\n",
        "    \"CRED_REFR\": \"Обновление учетных данных\",\n",
        "    \"USER_CMD\": \"Команда пользователя\",\n",
        "    \"EXECVE\": \"Выполнение программы\",\n",
        "    \"CONFIG_CHANGE\": \"Изменение конфигурации\",\n",
        "    \"PATH\": \"Путь\",\n",
        "    \"SYSCALL\": \"Системный вызов\",\n",
        "    \"SERVICE_STOP\": \"Остановка службы\",\n",
        "    \"USER_END\": \"Завершение сессии пользователя\",\n",
        "    \"BPF\": \"Berkeley Packet Filter\",\n",
        "    \"CRED_DISP\": \"Удаление учетных данных\",\n",
        "    \"CRED_ACQ\": \"Приобретение учетных данных\",\n",
        "    \"SOCKADDR\": \"Сетевой адрес\",\n",
        "    \"LOGIN\": \"Вход в систему\",\n",
        "    \"AVC\": \"Контроль доступа (Access Vector Cache)\",\n",
        "    \"DAEMON_END\": \"Завершение демона\",\n",
        "    \"PROCTITLE\": \"Название процесса\",\n",
        "    \"SYSTEM_RUNLEVEL\": \"Уровень выполнения системы\",\n",
        "    \"SERVICE_START\": \"Запуск службы\",\n",
        "    \"BPRM_FCAPS\": \"Капсулы файловой системы\",\n",
        "    \"USER_ACCT\": \"Учетная запись пользователя\",\n",
        "    \"SYSTEM_BOOT\": \"Загрузка системы\",\n",
        "    \"DAEMON_START\": \"Запуск демона\",\n",
        "    \"ANOM_ABEND\": \"Аномальное завершение\"\n",
        "}"
      ],
      "metadata": {
        "id": "RPbktT4GHnbF"
      },
      "execution_count": null,
      "outputs": []
    },
    {
      "cell_type": "code",
      "source": [
        "# Функция для извлечения типа из строки лога\n",
        "def extract_event_type(line):\n",
        "    parts = line.split()\n",
        "    for part in parts:\n",
        "        if part.startswith(\"type=\"):\n",
        "            return part.split(\"=\")[1]\n",
        "    return None\n",
        "\n",
        "# Открытие файлов для чтения и записи\n",
        "with open(\"audit.log\", \"r\") as log_file, open(\"audit_svc_data.csv\", \"w\", newline=\"\", encoding='utf-8') as csv_file:\n",
        "    csv_writer = csv.writer(csv_file)\n",
        "    csv_writer.writerow([\"log_message\", \"event_type\"])\n",
        "\n",
        "    for line in log_file:\n",
        "        event_type = extract_event_type(line)\n",
        "        if event_type:\n",
        "            translated_event_type = log_types_translations.get(event_type, event_type)\n",
        "            csv_writer.writerow([line.strip(), translated_event_type])\n"
      ],
      "metadata": {
        "id": "ZA9tlJQivAGF"
      },
      "execution_count": null,
      "outputs": []
    },
    {
      "cell_type": "code",
      "source": [
        "# Наполнение датасета\n",
        "data = pd.read_csv(\"audit_svc_data.csv\", nrows=1000)\n",
        "data.head()"
      ],
      "metadata": {
        "colab": {
          "base_uri": "https://localhost:8080/",
          "height": 206
        },
        "id": "W_9xxbEcvZiv",
        "outputId": "6028cbe2-26b7-438f-b0a5-447ec4da315a"
      },
      "execution_count": null,
      "outputs": [
        {
          "output_type": "execute_result",
          "data": {
            "text/plain": [
              "                                         log_message              event_type\n",
              "0  type=DAEMON_START msg=audit(1714314919.366:346...           Запуск демона\n",
              "1  type=SYSCALL msg=audit(1714314919.363:537): ar...         Системный вызов\n",
              "2  type=SOCKADDR msg=audit(1714314919.363:537): s...           Сетевой адрес\n",
              "3  type=PROCTITLE msg=audit(1714314919.363:537): ...       Название процесса\n",
              "4  type=CONFIG_CHANGE msg=audit(1714314919.363:53...  Изменение конфигурации"
            ],
            "text/html": [
              "<div>\n",
              "<style scoped>\n",
              "    .dataframe tbody tr th:only-of-type {\n",
              "        vertical-align: middle;\n",
              "    }\n",
              "\n",
              "    .dataframe tbody tr th {\n",
              "        vertical-align: top;\n",
              "    }\n",
              "\n",
              "    .dataframe thead th {\n",
              "        text-align: right;\n",
              "    }\n",
              "</style>\n",
              "<table border=\"1\" class=\"dataframe\">\n",
              "  <thead>\n",
              "    <tr style=\"text-align: right;\">\n",
              "      <th></th>\n",
              "      <th>log_message</th>\n",
              "      <th>event_type</th>\n",
              "    </tr>\n",
              "  </thead>\n",
              "  <tbody>\n",
              "    <tr>\n",
              "      <th>0</th>\n",
              "      <td>type=DAEMON_START msg=audit(1714314919.366:346...</td>\n",
              "      <td>Запуск демона</td>\n",
              "    </tr>\n",
              "    <tr>\n",
              "      <th>1</th>\n",
              "      <td>type=SYSCALL msg=audit(1714314919.363:537): ar...</td>\n",
              "      <td>Системный вызов</td>\n",
              "    </tr>\n",
              "    <tr>\n",
              "      <th>2</th>\n",
              "      <td>type=SOCKADDR msg=audit(1714314919.363:537): s...</td>\n",
              "      <td>Сетевой адрес</td>\n",
              "    </tr>\n",
              "    <tr>\n",
              "      <th>3</th>\n",
              "      <td>type=PROCTITLE msg=audit(1714314919.363:537): ...</td>\n",
              "      <td>Название процесса</td>\n",
              "    </tr>\n",
              "    <tr>\n",
              "      <th>4</th>\n",
              "      <td>type=CONFIG_CHANGE msg=audit(1714314919.363:53...</td>\n",
              "      <td>Изменение конфигурации</td>\n",
              "    </tr>\n",
              "  </tbody>\n",
              "</table>\n",
              "</div>"
            ]
          },
          "metadata": {},
          "execution_count": 54
        }
      ]
    },
    {
      "cell_type": "code",
      "source": [
        "# Информация о датасете\n",
        "data.info()"
      ],
      "metadata": {
        "colab": {
          "base_uri": "https://localhost:8080/"
        },
        "id": "HRBA09mo-wxO",
        "outputId": "5a11f5c6-3ab1-4c29-ff60-052ec6fd3de3"
      },
      "execution_count": null,
      "outputs": [
        {
          "output_type": "stream",
          "name": "stdout",
          "text": [
            "<class 'pandas.core.frame.DataFrame'>\n",
            "RangeIndex: 1000 entries, 0 to 999\n",
            "Data columns (total 2 columns):\n",
            " #   Column       Non-Null Count  Dtype \n",
            "---  ------       --------------  ----- \n",
            " 0   log_message  1000 non-null   object\n",
            " 1   event_type   1000 non-null   object\n",
            "dtypes: object(2)\n",
            "memory usage: 15.8+ KB\n"
          ]
        }
      ]
    },
    {
      "cell_type": "code",
      "source": [
        "# Подготовка данных\n",
        "X = data['log_message']\n",
        "y = data['event_type']\n",
        "\n",
        "# Разделение данных на обучающий и тестовый наборы\n",
        "X_train, X_test, y_train, y_test = train_test_split(X, y, test_size=0.2, random_state=42)\n",
        "\n",
        "print(f'Train dataset size: {X_train.shape[0]}, {y_train.shape[0]}')\n",
        "print(f'Test dataset size: {X_test.shape[0]}, {y_test.shape[0]}')"
      ],
      "metadata": {
        "colab": {
          "base_uri": "https://localhost:8080/"
        },
        "id": "JLju6K4rvfDU",
        "outputId": "620a885d-241a-4c43-a9a0-a6d63df777d9"
      },
      "execution_count": null,
      "outputs": [
        {
          "output_type": "stream",
          "name": "stdout",
          "text": [
            "Train dataset size: 800, 800\n",
            "Test dataset size: 200, 200\n"
          ]
        }
      ]
    },
    {
      "cell_type": "markdown",
      "source": [
        "### Обучение модели"
      ],
      "metadata": {
        "id": "9FZwJHOgI3YF"
      }
    },
    {
      "cell_type": "code",
      "source": [
        "# Векторизация текста (логов)\n",
        "tfidf_vectorizer = TfidfVectorizer(max_features=10000)\n",
        "X_train_tfidf = tfidf_vectorizer.fit_transform(X_train)\n",
        "X_test_tfidf = tfidf_vectorizer.transform(X_test)\n",
        "\n",
        "# Обучение модели\n",
        "svm_model = LinearSVC()\n",
        "svm_model.fit(X_train_tfidf, y_train)\n",
        "\n",
        "# Предсказание на тестовом наборе\n",
        "y_pred = svm_model.predict(X_test_tfidf)\n",
        "\n",
        "# Оценка производительности модели\n",
        "accuracy = accuracy_score(y_test, y_pred)\n",
        "print(\"Accuracy:\", accuracy)\n",
        "\n",
        "# Вывод отчета о классификации\n",
        "print(classification_report(y_test, y_pred))\n",
        "\n",
        "# Экспорт модели\n",
        "joblib.dump(svm_model, 'svm_model.joblib')\n",
        "joblib.dump(tfidf_vectorizer, 'tfidf_vectorizer.joblib')"
      ],
      "metadata": {
        "colab": {
          "base_uri": "https://localhost:8080/"
        },
        "id": "SFbO2NZhDjMm",
        "outputId": "aedb9629-0a47-4564-8d83-102eb41231a8"
      },
      "execution_count": null,
      "outputs": [
        {
          "output_type": "stream",
          "name": "stdout",
          "text": [
            "Accuracy: 0.99\n",
            "                                                         precision    recall  f1-score   support\n",
            "\n",
            "                                 Berkeley Packet Filter       1.00      1.00      1.00        34\n",
            "                            Аутентификация пользователя       1.00      1.00      1.00         3\n",
            "                                         Вход в систему       1.00      1.00      1.00         5\n",
            "                         Завершение сессии пользователя       1.00      1.00      1.00         2\n",
            "                                       Загрузка системы       0.00      0.00      0.00         2\n",
            "                                          Запуск службы       0.93      1.00      0.97        28\n",
            "                                 Изменение конфигурации       1.00      1.00      1.00         3\n",
            "                                   Команда пользователя       1.00      1.00      1.00         2\n",
            "                 Контроль доступа (Access Vector Cache)       1.00      1.00      1.00        15\n",
            "                                      Название процесса       1.00      1.00      1.00        33\n",
            "                             Начало сессии пользователя       1.00      1.00      1.00         9\n",
            "                              Обновление учетных данных       1.00      1.00      1.00         9\n",
            "                                       Остановка службы       1.00      1.00      1.00        20\n",
            "Пользовательский контроль доступа (Access Vector Cache)       1.00      1.00      1.00         2\n",
            "                            Приобретение учетных данных       1.00      1.00      1.00         1\n",
            "                                                   Путь       1.00      1.00      1.00         1\n",
            "                                          Сетевой адрес       1.00      1.00      1.00         6\n",
            "                                        Системный вызов       1.00      1.00      1.00        18\n",
            "                                Удаление учетных данных       1.00      1.00      1.00         2\n",
            "                            Учетная запись пользователя       1.00      1.00      1.00         5\n",
            "\n",
            "                                               accuracy                           0.99       200\n",
            "                                              macro avg       0.95      0.95      0.95       200\n",
            "                                           weighted avg       0.98      0.99      0.99       200\n",
            "\n"
          ]
        },
        {
          "output_type": "stream",
          "name": "stderr",
          "text": [
            "D:\\Program Files\\Anaconda\\lib\\site-packages\\sklearn\\metrics\\_classification.py:1221: UndefinedMetricWarning: Precision and F-score are ill-defined and being set to 0.0 in labels with no predicted samples. Use `zero_division` parameter to control this behavior.\n",
            "  _warn_prf(average, modifier, msg_start, len(result))\n"
          ]
        },
        {
          "output_type": "execute_result",
          "data": {
            "text/plain": [
              "['tfidf_vectorizer.joblib']"
            ]
          },
          "metadata": {},
          "execution_count": 57
        }
      ]
    },
    {
      "cell_type": "markdown",
      "source": [
        "### Тестирование"
      ],
      "metadata": {
        "id": "_hrRucRiI6c-"
      }
    },
    {
      "cell_type": "code",
      "source": [
        "# Импорт модели\n",
        "loaded_svm_model = joblib.load('svm_model.joblib')\n",
        "loaded_tfidf_vectorizer = joblib.load('tfidf_vectorizer.joblib')\n",
        "\n",
        "# Тестовые логи\n",
        "new_logs = [ \"type=SYSCALL msg=audit(1714314919.363:537): arch=c000003e syscall=44 success=yes exit=60 a0=3 a1=7ffe69e55e30 a2=3c a3=0 items=0 ppid=5712 pid=5713 auid=4294967295 uid=0 gid=0 euid=0 suid=0 fsuid=0 egid=0 sgid=0 fsgid=0 tty=(none) ses=4294967295 comm='auditd' exe='/usr/sbin/auditd' subj=unconfined key=(null)ARCH=x86_64 SYSCALL=sendto AUID='unset' UID='root' GID='root' EUID='root' SUID='root' FSUID='root' EGID='root' SGID='root' FSGID='root'\",\n",
        "            \"type=CWD msg=audit(1714314919.419:539): cwd='/'\",\n",
        "             \"type=PROCTITLE msg=audit(1714314919.363:538): proctitle='/sbin/auditd'\" ]\n",
        "\n",
        "# Векторизация логов\n",
        "log_vectors = []\n",
        "for log in new_logs:\n",
        "  log_vectors.append(loaded_tfidf_vectorizer.transform([log]))\n",
        "\n",
        "# Предсказание событий на основе новых логов\n",
        "event_preds = []\n",
        "for vec in log_vectors:\n",
        "  event_preds.append(loaded_svm_model.predict(vec))\n",
        "\n",
        "# Вывод предсказанных событий\n",
        "for log, pred in zip(new_logs, event_preds):\n",
        "  print(f\"Event: {pred[0]}\\nLog: {log}\\n\")\n"
      ],
      "metadata": {
        "colab": {
          "base_uri": "https://localhost:8080/"
        },
        "id": "EPZyHtnswCJX",
        "outputId": "a37c6c0a-67a8-4ebd-f150-1d0bef78bbff"
      },
      "execution_count": null,
      "outputs": [
        {
          "output_type": "stream",
          "name": "stdout",
          "text": [
            "Event: Системный вызов\n",
            "Log: type=SYSCALL msg=audit(1714314919.363:537): arch=c000003e syscall=44 success=yes exit=60 a0=3 a1=7ffe69e55e30 a2=3c a3=0 items=0 ppid=5712 pid=5713 auid=4294967295 uid=0 gid=0 euid=0 suid=0 fsuid=0 egid=0 sgid=0 fsgid=0 tty=(none) ses=4294967295 comm='auditd' exe='/usr/sbin/auditd' subj=unconfined key=(null)ARCH=x86_64 SYSCALL=sendto AUID='unset' UID='root' GID='root' EUID='root' SUID='root' FSUID='root' EGID='root' SGID='root' FSGID='root'\n",
            "\n",
            "Event: Текущий рабочий каталог\n",
            "Log: type=CWD msg=audit(1714314919.419:539): cwd='/'\n",
            "\n",
            "Event: Название процесса\n",
            "Log: type=PROCTITLE msg=audit(1714314919.363:538): proctitle='/sbin/auditd'\n",
            "\n"
          ]
        }
      ]
    }
  ]
}