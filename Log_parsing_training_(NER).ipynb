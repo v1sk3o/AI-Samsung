{
  "nbformat": 4,
  "nbformat_minor": 0,
  "metadata": {
    "colab": {
      "provenance": [],
      "gpuType": "T4"
    },
    "kernelspec": {
      "name": "python3",
      "display_name": "Python 3"
    },
    "language_info": {
      "name": "python"
    },
    "accelerator": "GPU"
  },
  "cells": [
    {
      "cell_type": "markdown",
      "source": [
        "# Модель парсинга лога (NER)"
      ],
      "metadata": {
        "id": "Wdi31OEiYCWF"
      }
    },
    {
      "cell_type": "code",
      "source": [
        "import spacy\n",
        "from spacy.training.example import Example\n",
        "from spacy.tokens import DocBin\n",
        "from spacy.util import minibatch, compounding\n",
        "from spacy.scorer import Scorer\n",
        "from sklearn.metrics import precision_recall_fscore_support\n",
        "from sklearn.model_selection import train_test_split\n",
        "import re\n",
        "import json"
      ],
      "metadata": {
        "id": "ilLhu0S-mPKV"
      },
      "execution_count": null,
      "outputs": []
    },
    {
      "cell_type": "code",
      "source": [
        "# Необхоимо импортировать файл audit.log\n",
        "from google.colab import files\n",
        "uploaded = files.upload()"
      ],
      "metadata": {
        "colab": {
          "base_uri": "https://localhost:8080/",
          "height": 73
        },
        "id": "oA8qsAG7JyTZ",
        "outputId": "8ffe4519-8092-40ae-8450-a58a7cb8af69"
      },
      "execution_count": null,
      "outputs": [
        {
          "output_type": "display_data",
          "data": {
            "text/plain": [
              "<IPython.core.display.HTML object>"
            ],
            "text/html": [
              "\n",
              "     <input type=\"file\" id=\"files-cc5549bd-3d71-4076-852c-0452766cfb18\" name=\"files[]\" multiple disabled\n",
              "        style=\"border:none\" />\n",
              "     <output id=\"result-cc5549bd-3d71-4076-852c-0452766cfb18\">\n",
              "      Upload widget is only available when the cell has been executed in the\n",
              "      current browser session. Please rerun this cell to enable.\n",
              "      </output>\n",
              "      <script>// Copyright 2017 Google LLC\n",
              "//\n",
              "// Licensed under the Apache License, Version 2.0 (the \"License\");\n",
              "// you may not use this file except in compliance with the License.\n",
              "// You may obtain a copy of the License at\n",
              "//\n",
              "//      http://www.apache.org/licenses/LICENSE-2.0\n",
              "//\n",
              "// Unless required by applicable law or agreed to in writing, software\n",
              "// distributed under the License is distributed on an \"AS IS\" BASIS,\n",
              "// WITHOUT WARRANTIES OR CONDITIONS OF ANY KIND, either express or implied.\n",
              "// See the License for the specific language governing permissions and\n",
              "// limitations under the License.\n",
              "\n",
              "/**\n",
              " * @fileoverview Helpers for google.colab Python module.\n",
              " */\n",
              "(function(scope) {\n",
              "function span(text, styleAttributes = {}) {\n",
              "  const element = document.createElement('span');\n",
              "  element.textContent = text;\n",
              "  for (const key of Object.keys(styleAttributes)) {\n",
              "    element.style[key] = styleAttributes[key];\n",
              "  }\n",
              "  return element;\n",
              "}\n",
              "\n",
              "// Max number of bytes which will be uploaded at a time.\n",
              "const MAX_PAYLOAD_SIZE = 100 * 1024;\n",
              "\n",
              "function _uploadFiles(inputId, outputId) {\n",
              "  const steps = uploadFilesStep(inputId, outputId);\n",
              "  const outputElement = document.getElementById(outputId);\n",
              "  // Cache steps on the outputElement to make it available for the next call\n",
              "  // to uploadFilesContinue from Python.\n",
              "  outputElement.steps = steps;\n",
              "\n",
              "  return _uploadFilesContinue(outputId);\n",
              "}\n",
              "\n",
              "// This is roughly an async generator (not supported in the browser yet),\n",
              "// where there are multiple asynchronous steps and the Python side is going\n",
              "// to poll for completion of each step.\n",
              "// This uses a Promise to block the python side on completion of each step,\n",
              "// then passes the result of the previous step as the input to the next step.\n",
              "function _uploadFilesContinue(outputId) {\n",
              "  const outputElement = document.getElementById(outputId);\n",
              "  const steps = outputElement.steps;\n",
              "\n",
              "  const next = steps.next(outputElement.lastPromiseValue);\n",
              "  return Promise.resolve(next.value.promise).then((value) => {\n",
              "    // Cache the last promise value to make it available to the next\n",
              "    // step of the generator.\n",
              "    outputElement.lastPromiseValue = value;\n",
              "    return next.value.response;\n",
              "  });\n",
              "}\n",
              "\n",
              "/**\n",
              " * Generator function which is called between each async step of the upload\n",
              " * process.\n",
              " * @param {string} inputId Element ID of the input file picker element.\n",
              " * @param {string} outputId Element ID of the output display.\n",
              " * @return {!Iterable<!Object>} Iterable of next steps.\n",
              " */\n",
              "function* uploadFilesStep(inputId, outputId) {\n",
              "  const inputElement = document.getElementById(inputId);\n",
              "  inputElement.disabled = false;\n",
              "\n",
              "  const outputElement = document.getElementById(outputId);\n",
              "  outputElement.innerHTML = '';\n",
              "\n",
              "  const pickedPromise = new Promise((resolve) => {\n",
              "    inputElement.addEventListener('change', (e) => {\n",
              "      resolve(e.target.files);\n",
              "    });\n",
              "  });\n",
              "\n",
              "  const cancel = document.createElement('button');\n",
              "  inputElement.parentElement.appendChild(cancel);\n",
              "  cancel.textContent = 'Cancel upload';\n",
              "  const cancelPromise = new Promise((resolve) => {\n",
              "    cancel.onclick = () => {\n",
              "      resolve(null);\n",
              "    };\n",
              "  });\n",
              "\n",
              "  // Wait for the user to pick the files.\n",
              "  const files = yield {\n",
              "    promise: Promise.race([pickedPromise, cancelPromise]),\n",
              "    response: {\n",
              "      action: 'starting',\n",
              "    }\n",
              "  };\n",
              "\n",
              "  cancel.remove();\n",
              "\n",
              "  // Disable the input element since further picks are not allowed.\n",
              "  inputElement.disabled = true;\n",
              "\n",
              "  if (!files) {\n",
              "    return {\n",
              "      response: {\n",
              "        action: 'complete',\n",
              "      }\n",
              "    };\n",
              "  }\n",
              "\n",
              "  for (const file of files) {\n",
              "    const li = document.createElement('li');\n",
              "    li.append(span(file.name, {fontWeight: 'bold'}));\n",
              "    li.append(span(\n",
              "        `(${file.type || 'n/a'}) - ${file.size} bytes, ` +\n",
              "        `last modified: ${\n",
              "            file.lastModifiedDate ? file.lastModifiedDate.toLocaleDateString() :\n",
              "                                    'n/a'} - `));\n",
              "    const percent = span('0% done');\n",
              "    li.appendChild(percent);\n",
              "\n",
              "    outputElement.appendChild(li);\n",
              "\n",
              "    const fileDataPromise = new Promise((resolve) => {\n",
              "      const reader = new FileReader();\n",
              "      reader.onload = (e) => {\n",
              "        resolve(e.target.result);\n",
              "      };\n",
              "      reader.readAsArrayBuffer(file);\n",
              "    });\n",
              "    // Wait for the data to be ready.\n",
              "    let fileData = yield {\n",
              "      promise: fileDataPromise,\n",
              "      response: {\n",
              "        action: 'continue',\n",
              "      }\n",
              "    };\n",
              "\n",
              "    // Use a chunked sending to avoid message size limits. See b/62115660.\n",
              "    let position = 0;\n",
              "    do {\n",
              "      const length = Math.min(fileData.byteLength - position, MAX_PAYLOAD_SIZE);\n",
              "      const chunk = new Uint8Array(fileData, position, length);\n",
              "      position += length;\n",
              "\n",
              "      const base64 = btoa(String.fromCharCode.apply(null, chunk));\n",
              "      yield {\n",
              "        response: {\n",
              "          action: 'append',\n",
              "          file: file.name,\n",
              "          data: base64,\n",
              "        },\n",
              "      };\n",
              "\n",
              "      let percentDone = fileData.byteLength === 0 ?\n",
              "          100 :\n",
              "          Math.round((position / fileData.byteLength) * 100);\n",
              "      percent.textContent = `${percentDone}% done`;\n",
              "\n",
              "    } while (position < fileData.byteLength);\n",
              "  }\n",
              "\n",
              "  // All done.\n",
              "  yield {\n",
              "    response: {\n",
              "      action: 'complete',\n",
              "    }\n",
              "  };\n",
              "}\n",
              "\n",
              "scope.google = scope.google || {};\n",
              "scope.google.colab = scope.google.colab || {};\n",
              "scope.google.colab._files = {\n",
              "  _uploadFiles,\n",
              "  _uploadFilesContinue,\n",
              "};\n",
              "})(self);\n",
              "</script> "
            ]
          },
          "metadata": {}
        },
        {
          "output_type": "stream",
          "name": "stdout",
          "text": [
            "Saving audit.log to audit.log\n"
          ]
        }
      ]
    },
    {
      "cell_type": "code",
      "source": [
        "from google.colab import drive\n",
        "drive.mount('/content/drive')"
      ],
      "metadata": {
        "id": "JEjRtB1jvxrB"
      },
      "execution_count": null,
      "outputs": []
    },
    {
      "cell_type": "markdown",
      "source": [
        "### Подготовка данных"
      ],
      "metadata": {
        "id": "DxmJ5YGaJ8Np"
      }
    },
    {
      "cell_type": "code",
      "source": [
        "# Функция извлечения всех параметров из лога и их индексов\n",
        "def extract_parameters(log):\n",
        "    pattern = r'(\\w+)=(\"([^\"]+)\"|([^\\s]+))'\n",
        "    matches = re.finditer(pattern, log)\n",
        "    entities = []\n",
        "    for match in matches:\n",
        "        param_name = match.group(1)\n",
        "        start = match.start(1)\n",
        "        end = match.end(2)\n",
        "        entities.append((start, end, param_name.upper()))\n",
        "    return entities\n",
        "\n",
        "# Подготовка датасета из файла audit.log\n",
        "with open(\"audit.log\", \"r\", encoding='utf-8') as log_file, open(\"audit_ner_dataset.json\", \"w\", encoding='utf-8') as json_file:\n",
        "    json_data = []\n",
        "    for line in log_file:\n",
        "      entities = extract_parameters(line.strip())\n",
        "      if entities:\n",
        "        json_data.append({\"log_message\": line.strip(), \"entities\": entities})\n",
        "    json.dump(json_data, json_file, ensure_ascii=False, indent=4)"
      ],
      "metadata": {
        "id": "3JlXuhA4AILI"
      },
      "execution_count": null,
      "outputs": []
    },
    {
      "cell_type": "code",
      "source": [
        "# Загрузка датасета из json файла\n",
        "with open(\"audit_ner_dataset.json\", \"r\", encoding='utf-8') as json_file:\n",
        "    json_data = json.load(json_file)\n",
        "\n",
        "data = []\n",
        "for entry in json_data[:70]:\n",
        "    data.append((entry['log_message'], {'entities': entry['entities']}))\n",
        "\n",
        "data[:2]"
      ],
      "metadata": {
        "colab": {
          "base_uri": "https://localhost:8080/"
        },
        "id": "UYcMM3VBu1CQ",
        "outputId": "416f776a-336c-4077-e7c0-cf8eebe17bd9"
      },
      "execution_count": null,
      "outputs": [
        {
          "output_type": "execute_result",
          "data": {
            "text/plain": [
              "[('type=DAEMON_START msg=audit(1714314919.366:3461): op=start ver=3.0.7 format=enriched kernel=6.5.0-28-generic auid=4294967295 pid=5713 uid=0 ses=4294967295 subj=unconfined  res=success\\x1dAUID=\"unset\" UID=\"root\"',\n",
              "  {'entities': [[0, 17, 'TYPE'],\n",
              "    [18, 49, 'MSG'],\n",
              "    [50, 58, 'OP'],\n",
              "    [59, 68, 'VER'],\n",
              "    [69, 84, 'FORMAT'],\n",
              "    [85, 108, 'KERNEL'],\n",
              "    [109, 124, 'AUID'],\n",
              "    [125, 133, 'PID'],\n",
              "    [134, 139, 'UID'],\n",
              "    [140, 154, 'SES'],\n",
              "    [155, 170, 'SUBJ'],\n",
              "    [172, 183, 'RES'],\n",
              "    [184, 196, 'AUID'],\n",
              "    [197, 207, 'UID']]}),\n",
              " ('type=SYSCALL msg=audit(1714314919.363:537): arch=c000003e syscall=44 success=yes exit=60 a0=3 a1=7ffe69e55e30 a2=3c a3=0 items=0 ppid=5712 pid=5713 auid=4294967295 uid=0 gid=0 euid=0 suid=0 fsuid=0 egid=0 sgid=0 fsgid=0 tty=(none) ses=4294967295 comm=\"auditd\" exe=\"/usr/sbin/auditd\" subj=unconfined key=(null) \\x1dARCH=x86_64 SYSCALL=sendto AUID=\"unset\" UID=\"root\" GID=\"root\" EUID=\"root\" SUID=\"root\" FSUID=\"root\" EGID=\"root\" SGID=\"root\" FSGID=\"root\"',\n",
              "  {'entities': [[0, 12, 'TYPE'],\n",
              "    [13, 43, 'MSG'],\n",
              "    [44, 57, 'ARCH'],\n",
              "    [58, 68, 'SYSCALL'],\n",
              "    [69, 80, 'SUCCESS'],\n",
              "    [81, 88, 'EXIT'],\n",
              "    [89, 93, 'A0'],\n",
              "    [94, 109, 'A1'],\n",
              "    [110, 115, 'A2'],\n",
              "    [116, 120, 'A3'],\n",
              "    [121, 128, 'ITEMS'],\n",
              "    [129, 138, 'PPID'],\n",
              "    [139, 147, 'PID'],\n",
              "    [148, 163, 'AUID'],\n",
              "    [164, 169, 'UID'],\n",
              "    [170, 175, 'GID'],\n",
              "    [176, 182, 'EUID'],\n",
              "    [183, 189, 'SUID'],\n",
              "    [190, 197, 'FSUID'],\n",
              "    [198, 204, 'EGID'],\n",
              "    [205, 211, 'SGID'],\n",
              "    [212, 219, 'FSGID'],\n",
              "    [220, 230, 'TTY'],\n",
              "    [231, 245, 'SES'],\n",
              "    [246, 259, 'COMM'],\n",
              "    [260, 282, 'EXE'],\n",
              "    [283, 298, 'SUBJ'],\n",
              "    [299, 309, 'KEY'],\n",
              "    [311, 322, 'ARCH'],\n",
              "    [323, 337, 'SYSCALL'],\n",
              "    [338, 350, 'AUID'],\n",
              "    [351, 361, 'UID'],\n",
              "    [362, 372, 'GID'],\n",
              "    [373, 384, 'EUID'],\n",
              "    [385, 396, 'SUID'],\n",
              "    [397, 409, 'FSUID'],\n",
              "    [410, 421, 'EGID'],\n",
              "    [422, 433, 'SGID'],\n",
              "    [434, 446, 'FSGID']]})]"
            ]
          },
          "metadata": {},
          "execution_count": 27
        }
      ]
    },
    {
      "cell_type": "code",
      "source": [
        "# Разделение данных на обучающий и тестовый наборы\n",
        "train_data, val_data = train_test_split(data, test_size=0.2, random_state=42)\n",
        "\n",
        "print(f'Train dataset size: {len(train_data)}')\n",
        "print(f'Test dataset size: {len(val_data)}')"
      ],
      "metadata": {
        "colab": {
          "base_uri": "https://localhost:8080/"
        },
        "id": "GE5PcKy3RZyN",
        "outputId": "d33ad257-1615-4c6c-ed00-3b15e2f997a2"
      },
      "execution_count": null,
      "outputs": [
        {
          "output_type": "stream",
          "name": "stdout",
          "text": [
            "Train dataset size: 56\n",
            "Test dataset size: 14\n"
          ]
        }
      ]
    },
    {
      "cell_type": "markdown",
      "source": [
        "### Обучение модели"
      ],
      "metadata": {
        "id": "dyGshvexJ_T9"
      }
    },
    {
      "cell_type": "code",
      "source": [
        "# Загрузка предобученной модели\n",
        "nlp = spacy.load(\"en_core_web_sm\")\n",
        "\n",
        "# Создание пустой модели для NER\n",
        "if \"ner\" not in nlp.pipe_names:\n",
        "    ner = nlp.add_pipe(\"ner\", last=True)\n",
        "else:\n",
        "    ner = nlp.get_pipe(\"ner\")\n",
        "\n",
        "# Добавление новых меток сущностей\n",
        "for _, annotations in data:\n",
        "    for ent in annotations.get(\"entities\"):\n",
        "        ner.add_label(ent[2])\n",
        "\n",
        "# Начало процесса обучения\n",
        "optimizer = nlp.resume_training()\n",
        "n_iter = 40\n",
        "\n",
        "# Отключение других pipeline-компонентов\n",
        "other_pipes = [pipe for pipe in nlp.pipe_names if pipe != \"ner\"]\n",
        "\n",
        "def evaluate(ner_model, data):\n",
        "    examples = [Example.from_dict(ner_model.make_doc(text), annotations) for text, annotations in data]\n",
        "    scorer = ner_model.evaluate(examples)\n",
        "    return scorer\n",
        "\n",
        "with nlp.disable_pipes(*other_pipes):\n",
        "    for itn in range(n_iter):\n",
        "        losses = {}\n",
        "        for batch in minibatch(train_data, size=compounding(4.0, 32.0, 1.001)):\n",
        "            for text, annotations in batch:\n",
        "                doc = nlp.make_doc(text)\n",
        "                example = Example.from_dict(doc, annotations)\n",
        "                nlp.update([example], drop=0.5, sgd=optimizer, losses=losses)\n",
        "\n",
        "        if (itn + 1) % 5 == 0:\n",
        "            scorer = evaluate(nlp, val_data)\n",
        "            f1_score = round(scorer[\"ents_f\"], 2)\n",
        "            precision = round(scorer[\"ents_p\"], 2)\n",
        "            recall = round(scorer[\"ents_r\"], 2)\n",
        "            loss = round(losses.get(\"ner\", 0), 2)\n",
        "            print(f\"Iteration {itn + 1} - F1 Score: {f1_score} - Precision: {precision} - Recall: {recall} - Losses: {loss}\")\n",
        "\n",
        "# Сохранение обученной модели\n",
        "nlp.to_disk(\"/content/drive/MyDrive/parse_model\")"
      ],
      "metadata": {
        "colab": {
          "base_uri": "https://localhost:8080/"
        },
        "id": "GyrrOddG-Zm-",
        "outputId": "f42c0e21-d7b9-4c93-9f63-a4ee613bd09e"
      },
      "execution_count": null,
      "outputs": [
        {
          "output_type": "stream",
          "name": "stdout",
          "text": [
            "Iteration 5 - F1 Score: 0.56 - Precision: 0.82 - Recall: 0.43 - Losses: 857.9\n",
            "Iteration 10 - F1 Score: 0.71 - Precision: 0.78 - Recall: 0.65 - Losses: 358.53\n",
            "Iteration 15 - F1 Score: 0.76 - Precision: 0.87 - Recall: 0.68 - Losses: 286.09\n",
            "Iteration 20 - F1 Score: 0.66 - Precision: 0.87 - Recall: 0.53 - Losses: 282.57\n",
            "Iteration 25 - F1 Score: 0.9 - Precision: 0.91 - Recall: 0.9 - Losses: 149.79\n",
            "Iteration 30 - F1 Score: 0.92 - Precision: 0.93 - Recall: 0.91 - Losses: 137.68\n",
            "Iteration 35 - F1 Score: 0.92 - Precision: 0.93 - Recall: 0.91 - Losses: 88.76\n",
            "Iteration 40 - F1 Score: 0.93 - Precision: 0.93 - Recall: 0.92 - Losses: 78.27\n"
          ]
        }
      ]
    },
    {
      "cell_type": "markdown",
      "source": [
        "### Тестирование"
      ],
      "metadata": {
        "id": "IyH8OEhBX8qN"
      }
    },
    {
      "cell_type": "code",
      "source": [
        "# Тестовые логи\n",
        "new_logs = [ \"type=SYSCALL msg=audit(1714314919.363:537): arch=c000003e syscall=44 success=yes exit=60 a0=3 a1=7ffe69e55e30 a2=3c a3=0 items=0 ppid=5712 pid=5713 auid=4294967295 uid=0 gid=0 euid=0 suid=0 fsuid=0 egid=0 sgid=0 fsgid=0 tty=(none) ses=4294967295 comm='auditd' exe='/usr/sbin/auditd' subj=unconfined key=(null)ARCH=x86_64 SYSCALL=sendto AUID='unset' UID='root' GID='root' EUID='root' SUID='root' FSUID='root' EGID='root' SGID='root' FSGID='root'\",\n",
        "            \"type=CWD msg=audit(1714314919.419:539): cwd='/'\",\n",
        "             \"type=PROCTITLE msg=audit(1714314919.363:538): proctitle='/sbin/auditd'\" ]\n",
        "\n",
        "# Загрузка модели\n",
        "nlp = spacy.load(\"/content/drive/MyDrive/parse_model\")\n",
        "\n",
        "# Функция парсинга логов\n",
        "def analyze_logs(log):\n",
        "    doc = nlp(log)\n",
        "    entities = [(ent.text, ent.label_) for ent in doc.ents]\n",
        "    print(f\"Log: {log.strip()}\\nNamed Entities: {entities}\\n\")\n",
        "    return entities\n",
        "\n",
        "# Вывод сущностей логов\n",
        "out = []\n",
        "for log in new_logs:\n",
        "  out.append(analyze_logs(log))"
      ],
      "metadata": {
        "colab": {
          "base_uri": "https://localhost:8080/"
        },
        "id": "SMKxe2L9-mrD",
        "outputId": "508e17b7-953d-4591-be03-253cae173493"
      },
      "execution_count": null,
      "outputs": [
        {
          "output_type": "stream",
          "name": "stdout",
          "text": [
            "Log: type=SYSCALL msg=audit(1714314919.363:537): arch=c000003e syscall=44 success=yes exit=60 a0=3 a1=7ffe69e55e30 a2=3c a3=0 items=0 ppid=5712 pid=5713 auid=4294967295 uid=0 gid=0 euid=0 suid=0 fsuid=0 egid=0 sgid=0 fsgid=0 tty=(none) ses=4294967295 comm='auditd' exe='/usr/sbin/auditd' subj=unconfined key=(null)ARCH=x86_64 SYSCALL=sendto AUID='unset' UID='root' GID='root' EUID='root' SUID='root' FSUID='root' EGID='root' SGID='root' FSGID='root'\n",
            "Named Entities: [('type=SYSCALL', 'TYPE'), ('msg=audit(1714314919.363:537):', 'MSG'), ('arch=c000003e', 'ARCH'), ('syscall=44', 'SYSCALL'), ('success=yes', 'SUCCESS'), ('exit=60', 'EXIT'), ('a0=3', 'A0'), ('a1=7ffe69e55e30', 'A1'), ('a2=3c', 'A2'), ('a3=0', 'A3'), ('items=0', 'ITEMS'), ('ppid=5712', 'PPID'), ('pid=5713', 'PID'), ('auid=4294967295', 'AUID'), ('uid=0', 'UID'), ('gid=0', 'GID'), ('euid=0', 'EUID'), ('suid=0', 'SUID'), ('fsuid=0', 'FSUID'), ('egid=0', 'EGID'), ('sgid=0', 'SGID'), ('fsgid=0', 'FSGID'), ('tty=(none)', 'TTY'), ('ses=4294967295', 'SES'), (\"exe='/usr/sbin/auditd'\", 'EXE'), ('subj=unconfined', 'SUBJ'), ('key=(null)ARCH=x86_64', 'ARCH'), ('SYSCALL=sendto', 'SYSCALL'), (\"AUID='unset'\", 'KEY'), (\"UID='root'\", 'UID'), (\"GID='root'\", 'SUID'), (\"EUID='root'\", 'EGID'), (\"SUID='root'\", 'EGID'), (\"FSUID='root'\", 'EGID'), (\"EGID='root'\", 'EGID'), (\"SGID='root' FSGID='root'\", 'SGID')]\n",
            "\n",
            "Log: type=CWD msg=audit(1714314919.419:539): cwd='/'\n",
            "Named Entities: [('type=CWD', 'TYPE'), ('msg=audit(1714314919.419:539):', 'MSG'), (\"cwd='/\", 'RES')]\n",
            "\n",
            "Log: type=PROCTITLE msg=audit(1714314919.363:538): proctitle='/sbin/auditd'\n",
            "Named Entities: [('type=PROCTITLE', 'TYPE'), ('msg=audit(1714314919.363:538):', 'MSG'), (\"proctitle='/sbin/auditd'\", 'PROCTITLE')]\n",
            "\n"
          ]
        }
      ]
    },
    {
      "cell_type": "code",
      "source": [
        "# Вывод распаршенных логов\n",
        "for log in out:\n",
        "  for par in log:\n",
        "    first_param, second_param = par\n",
        "    value_after_equal = first_param.split('=', 1)[1]\n",
        "    print(f\"{second_param}: {value_after_equal}\")\n",
        "  print(\"\\n\")"
      ],
      "metadata": {
        "colab": {
          "base_uri": "https://localhost:8080/"
        },
        "id": "XynsqQUQN7s4",
        "outputId": "87d92957-ed51-4215-9646-5e06da82272b"
      },
      "execution_count": null,
      "outputs": [
        {
          "output_type": "stream",
          "name": "stdout",
          "text": [
            "TYPE: SYSCALL\n",
            "MSG: audit(1714314919.363:537):\n",
            "ARCH: c000003e\n",
            "SYSCALL: 44\n",
            "SUCCESS: yes\n",
            "EXIT: 60\n",
            "A0: 3\n",
            "A1: 7ffe69e55e30\n",
            "A2: 3c\n",
            "A3: 0\n",
            "ITEMS: 0\n",
            "PPID: 5712\n",
            "PID: 5713\n",
            "AUID: 4294967295\n",
            "UID: 0\n",
            "GID: 0\n",
            "EUID: 0\n",
            "SUID: 0\n",
            "FSUID: 0\n",
            "EGID: 0\n",
            "SGID: 0\n",
            "FSGID: 0\n",
            "TTY: (none)\n",
            "SES: 4294967295\n",
            "EXE: '/usr/sbin/auditd'\n",
            "SUBJ: unconfined\n",
            "ARCH: (null)ARCH=x86_64\n",
            "SYSCALL: sendto\n",
            "AUID: 'unset'\n",
            "UID: 'root'\n",
            "FSGID: 'root'\n",
            "KEY: 'root'\n",
            "SADDR: 'root\n",
            "FSUID: 'root'\n",
            "FSGID: 'root'\n",
            "FSGID: 'root'\n",
            "\n",
            "\n",
            "TYPE: CWD\n",
            "MSG: audit(1714314919.419:539):\n",
            "EXE: '/'\n",
            "\n",
            "\n",
            "TYPE: PROCTITLE\n",
            "MSG: audit(1714314919.363:538):\n",
            "PROCTITLE: '/sbin/auditd'\n",
            "\n",
            "\n"
          ]
        }
      ]
    }
  ]
}